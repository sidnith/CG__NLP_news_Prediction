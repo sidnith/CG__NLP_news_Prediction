{
 "cells": [
  {
   "cell_type": "markdown",
   "metadata": {},
   "source": [
    "#### Import all Libraries"
   ]
  },
  {
   "cell_type": "code",
   "execution_count": 1,
   "metadata": {},
   "outputs": [
    {
     "name": "stderr",
     "output_type": "stream",
     "text": [
      "C:\\Users\\vivyadav\\AppData\\Local\\Continuum\\anaconda3\\lib\\site-packages\\gensim\\utils.py:1212: UserWarning: detected Windows; aliasing chunkize to chunkize_serial\n",
      "  warnings.warn(\"detected Windows; aliasing chunkize to chunkize_serial\")\n"
     ]
    }
   ],
   "source": [
    "\n",
    "from sklearn.feature_extraction.text import TfidfVectorizer\n",
    "import pickle\n",
    "import numpy as np\n",
    "from flask import Flask, request, jsonify\n",
    "import pandas as pd\n",
    "\n",
    "from gensim.matutils import softcossim\n",
    "import gensim\n",
    "from gensim import corpora\n",
    "from gensim.utils import simple_preprocess\n",
    "\n",
    "from nltk.stem.wordnet import WordNetLemmatizer\n",
    "from nltk.corpus import stopwords\n",
    "import string\n",
    "\n",
    "import lime\n",
    "import lime.lime_text\n",
    "\n",
    "\n",
    "import re\n",
    "import webbrowser"
   ]
  },
  {
   "cell_type": "markdown",
   "metadata": {},
   "source": [
    "#### Import trained model along with tfidf  vocabulary"
   ]
  },
  {
   "cell_type": "code",
   "execution_count": 2,
   "metadata": {},
   "outputs": [],
   "source": [
    "app = Flask(__name__)\n",
    "news_classifier_model = pickle.load(open('model1.pkl', 'rb'))\n",
    "tf1_new = TfidfVectorizer(sublinear_tf=True, min_df=5, norm='l2', encoding='latin-1', ngram_range=(1, 2), stop_words='english',vocabulary=pickle.load(open(\"feature.pkl\", \"rb\")))"
   ]
  },
  {
   "cell_type": "markdown",
   "metadata": {},
   "source": [
    "#### For recommendations Import all similarity matrix along with its dictionary created using gensim "
   ]
  },
  {
   "cell_type": "code",
   "execution_count": 3,
   "metadata": {},
   "outputs": [],
   "source": [
    "business_similarity_matrix=pickle.load(open('business_similarity_matrix.mat','rb'))\n",
    "politics_similarity_matrix=pickle.load(open('politics_similarity_matrix.mat','rb'))\n",
    "entertainment_similarity_matrix=pickle.load(open('entertainment_similarity_matrix.mat','rb'))\n",
    "tech_similarity_matrix=pickle.load(open('tech_similarity_matrix.mat','rb'))\n",
    "sport_similarity_matrix=pickle.load(open('sport_similarity_matrix.mat','rb'))"
   ]
  },
  {
   "cell_type": "code",
   "execution_count": 4,
   "metadata": {},
   "outputs": [],
   "source": [
    "business_dictionary=pickle.load(open('business_dictionary','rb'))\n",
    "politics_dictionary=pickle.load(open('politics_dictionary','rb'))\n",
    "tech_dictionary=pickle.load(open('tech_dictionary','rb'))\n",
    "entertainment_dictionary=pickle.load(open('entertainment_dictionary','rb'))\n",
    "sport_dictionary=pickle.load(open('sport_dictionary','rb'))"
   ]
  },
  {
   "cell_type": "markdown",
   "metadata": {},
   "source": [
    "#### For cleaning of entered text "
   ]
  },
  {
   "cell_type": "code",
   "execution_count": 5,
   "metadata": {},
   "outputs": [],
   "source": [
    "stop = set(stopwords.words('english'))\n",
    "exclude = set(string.punctuation)\n",
    "lemma = WordNetLemmatizer()\n",
    "\n",
    "def get_words( text ): \n",
    "    stop_free = \" \".join([i for i in text.lower().split() if i not in stop]) #to remove words like is,the,am,I,to\n",
    "    punc_free = ''.join(ch for ch in stop_free if ch not in exclude) #to remove punctuations , . '\n",
    "    digit_free=' '.join(s for s in punc_free.split() if not any(c.isdigit() for c in s))\n",
    "    normalized = \" \".join(lemma.lemmatize(word) for word in digit_free.split()) #using wordnetlemmatizer to replace words\n",
    "    return normalized\n",
    "   "
   ]
  },
  {
   "cell_type": "markdown",
   "metadata": {},
   "source": [
    "#### Function to get similar docs"
   ]
  },
  {
   "cell_type": "code",
   "execution_count": 6,
   "metadata": {},
   "outputs": [],
   "source": [
    "def compute_similar_docs(query,docs,category,num_of_recommendation_articles):\n",
    "    category_dictionary={'business':business_dictionary,'politics':politics_dictionary,'tech':tech_dictionary,'entertainement':entertainment_dictionary,'sport':sport_dictionary}\n",
    "    category_similarity_matrix={'business':business_similarity_matrix,'politics':politics_similarity_matrix,'tech':tech_similarity_matrix,'entertainement':entertainment_similarity_matrix,'sport':sport_similarity_matrix}\n",
    "    query_vec=category_dictionary[category].doc2bow(simple_preprocess(get_words(query)))   \n",
    "    similarity_series=[]\n",
    "    print('reached here')\n",
    "    for doc in docs.text: \n",
    "        doc_vec = category_dictionary[category].doc2bow(simple_preprocess(get_words(doc)))                            \n",
    "        similarity_series.append(softcossim(query_vec,doc_vec,category_similarity_matrix[category]))     \n",
    "    \n",
    "    df=pd.DataFrame({'score':similarity_series})\n",
    "    df['filename']=[filename for filename in docs.filename]    \n",
    "    df['headline']=[headline for headline in docs.headlines]       \n",
    "    \n",
    "    return df.sort_values(['score'],ascending=False)[:num_of_recommendation_articles]\n",
    "        "
   ]
  },
  {
   "cell_type": "markdown",
   "metadata": {},
   "source": [
    "#### Dataset from which recommendation articles will be pulled"
   ]
  },
  {
   "cell_type": "code",
   "execution_count": 7,
   "metadata": {},
   "outputs": [],
   "source": [
    "dataset=pd.read_excel('C:/Users/vivyadav/Desktop/news_classify/dataset.xls')\n",
    "received_text=''"
   ]
  },
  {
   "cell_type": "markdown",
   "metadata": {},
   "source": [
    "#### LIME for Prediction Explaination"
   ]
  },
  {
   "cell_type": "code",
   "execution_count": 8,
   "metadata": {},
   "outputs": [],
   "source": [
    "def fasttext_prediction_in_sklearn_format(classifier, texts):\n",
    "    res = []\n",
    "    labels=[]\n",
    "    probabilities=[]\n",
    "    \n",
    "    text_features=tf1_new.fit_transform(texts)\n",
    "    output=zip(classifier.predict(text_features),classifier.predict_proba(text_features))\n",
    "    for i in output:\n",
    "        labels.append([0,1,2,3,4])\n",
    "        probabilities.append(i[1])\n",
    "    \n",
    "    for label, probs, text in zip(labels, probabilities, texts):\n",
    "        order = np.argsort(np.array(label))\n",
    "        res.append(probs[order])\n",
    "\n",
    "    return np.array(res)"
   ]
  },
  {
   "cell_type": "code",
   "execution_count": 9,
   "metadata": {},
   "outputs": [],
   "source": [
    "def tokenize_string(string):\n",
    "    return string.split()\n",
    "\n",
    "explainer = lime.lime_text.LimeTextExplainer(\n",
    "    # We need to tell LIME how to split the string into words. We can do this\n",
    "    # by giving it a function to call to split a string up the same way FastText does it.\n",
    "    split_expression=tokenize_string,\n",
    "    # Our FastText classifer uses bigrams (two-word pairs) to classify text. Setting\n",
    "    # bow=False tells LIME to not assume that our classifier is based on single words only.\n",
    "    bow=False,\n",
    "    # To make the output pretty, tell LIME what to call each possible prediction from our model.\n",
    "    class_names=['business', 'entertainment', 'politics', 'sport', 'tech']\n",
    ")"
   ]
  },
  {
   "cell_type": "code",
   "execution_count": 10,
   "metadata": {},
   "outputs": [],
   "source": [
    "def explaination(text):\n",
    "    exp = explainer.explain_instance(\n",
    "        # The review to explain\n",
    "        text,\n",
    "        # The wrapper function that returns FastText predictions in scikit-learn format\n",
    "        classifier_fn=lambda x: fasttext_prediction_in_sklearn_format(news_classifier_model, x),\n",
    "        # How many labels to explain. We just want to explain the single most likely label.\n",
    "        top_labels=5,\n",
    "        # How many words in our sentence to include in the explanation. You can try different values.\n",
    "        num_features=10\n",
    "    )\n",
    "    exp.save_to_file(\"explanation1.html\")\n",
    "    webbrowser.open(\"http://localhost:8888/view/explanation1.html\")"
   ]
  },
  {
   "cell_type": "markdown",
   "metadata": {},
   "source": [
    "#### functions performed on flask request"
   ]
  },
  {
   "cell_type": "code",
   "execution_count": 11,
   "metadata": {},
   "outputs": [],
   "source": [
    "@app.route('/api',methods=['POST'])\n",
    "def news_predict():\n",
    "    ## Get text sent through post request\n",
    "    text=request.get_json(force=True)\n",
    "    received_text=text['content']\n",
    "    \n",
    "    print(received_text)\n",
    "    ## find features of received text\n",
    "    text_features=tf1_new.fit_transform([get_words(received_text)])\n",
    "    \n",
    "    ## Make prediction through trained loaded model\n",
    "    predictions1 = news_classifier_model.predict(text_features)\n",
    "    id_to_category=np.array(['business','entertainment','politics','sport','tech'])\n",
    "    prediction=id_to_category[predictions1]\n",
    "    predicted_category=prediction[0]\n",
    "    print('Prediction',predicted_category)\n",
    "    \n",
    "    ##Find similar articles using compute_similar_docs function\n",
    "    num_of_recommendation_articles=5\n",
    "    top_similar_articles=compute_similar_docs(received_text,dataset.loc[dataset.category==predicted_category],predicted_category,num_of_recommendation_articles) \n",
    "    \n",
    "    ## print above results \n",
    "    print(predicted_category)    \n",
    "    print(top_similar_articles)\n",
    "    #return jsonify(predicted_category)\n",
    "    explaination(received_text)\n",
    "    return jsonify([predicted_category,num_of_recommendation_articles,[i for i in top_similar_articles.headline],[i for i in top_similar_articles.score],[i for i in top_similar_articles.filename]])\n",
    "\n",
    "@app.route('/prediction_explainer')\n",
    "def prediction_explainer():\n",
    "    explaination(received_text)\n",
    "@app.route('/')\n",
    "def home():\n",
    "    return 'hello this is vivek'"
   ]
  },
  {
   "cell_type": "code",
   "execution_count": null,
   "metadata": {
    "scrolled": false
   },
   "outputs": [
    {
     "name": "stdout",
     "output_type": "stream",
     "text": [
      " * Serving Flask app \"__main__\" (lazy loading)\n",
      " * Environment: production\n",
      "   WARNING: Do not use the development server in a production environment.\n",
      "   Use a production WSGI server instead.\n",
      " * Debug mode: off\n"
     ]
    },
    {
     "name": "stderr",
     "output_type": "stream",
     "text": [
      " * Running on http://127.0.0.1:8010/ (Press CTRL+C to quit)\n"
     ]
    },
    {
     "name": "stdout",
     "output_type": "stream",
     "text": [
      "Apple gave its chief executive Tim Cook a hefty 22 per cent pay raise in 2018, bringing his total compensation for the year to almost $15.7 million, according to a filing submitted to the Securities and Exchange Commission.\n",
      "The figure comprised a base salary of $3 million, a $12 million bonus and $680,000 in what it called \"other compensation\" that includes private air travel and security expenses.\n",
      "Apple's compensation committee cited the company's strong sales performance over the year in justifying the bonus.\n",
      "\"For 2018... we achieved net sales of $265.6 billion and operating income of $70.9 billion, each representing a year-over-year increase of 16 per cent, and exceeding the 2018 maximum annual cash incentive program goals for both of those performance measures,\" the document said.\n",
      "\n",
      "\n",
      "Prediction business\n",
      "reached here\n",
      "business\n",
      "        score filename                              headline\n",
      "220  0.395141  221.txt   BP surges ahead on high oil price\\n\n",
      "262  0.381114  263.txt  Split-caps pay Â£194m compensation\\n\n",
      "463  0.379082  464.txt   Wall Street cool to eBay's profit\\n\n",
      "461  0.378698  462.txt      GM issues 2005 profits warning\\n\n",
      "60   0.366057  061.txt    Further rise in UK jobless total\\n\n"
     ]
    },
    {
     "name": "stderr",
     "output_type": "stream",
     "text": [
      "127.0.0.1 - - [10/Jan/2019 15:08:11] \"POST /api HTTP/1.1\" 200 -\n"
     ]
    },
    {
     "name": "stdout",
     "output_type": "stream",
     "text": [
      "Apple gave its chief executive Tim Cook a hefty 22 per cent pay raise in 2018, bringing his total compensation for the year to almost $15.7 million, according to a filing submitted to the Securities and Exchange Commission.\n",
      "The figure comprised a base salary of $3 million, a $12 million bonus and $680,000 in what it called \"other compensation\" that includes private air travel and security expenses.\n",
      "Apple's compensation committee cited the company's strong sales performance over the year in justifying the bonus.\n",
      "\"For 2018... we achieved net sales of $265.6 billion and operating income of $70.9 billion, each representing a year-over-year increase of 16 per cent, and exceeding the 2018 maximum annual cash incentive program goals for both of those performance measures,\" the document said.\n",
      "\n",
      "\n",
      "Prediction business\n",
      "reached here\n",
      "business\n",
      "        score filename                              headline\n",
      "220  0.395141  221.txt   BP surges ahead on high oil price\\n\n",
      "262  0.381114  263.txt  Split-caps pay Â£194m compensation\\n\n",
      "463  0.379082  464.txt   Wall Street cool to eBay's profit\\n\n",
      "461  0.378698  462.txt      GM issues 2005 profits warning\\n\n",
      "60   0.366057  061.txt    Further rise in UK jobless total\\n\n"
     ]
    },
    {
     "name": "stderr",
     "output_type": "stream",
     "text": [
      "127.0.0.1 - - [10/Jan/2019 15:08:50] \"POST /api HTTP/1.1\" 200 -\n",
      "127.0.0.1 - - [10/Jan/2019 15:08:57] \"POST /prediction_explainer HTTP/1.1\" 405 -\n"
     ]
    },
    {
     "name": "stdout",
     "output_type": "stream",
     "text": [
      "Gold prices held near seven-month highs on Thursday as the dollar was pressured by rising expectations the US Federal Reserve will keep interest rates steady this year, while investors also waited for further news on Sino-US trade talks.\n",
      "\n",
      "FUNDAMENTALS\n",
      "\n",
      "Spot gold was a tad lower at $1,292.46 per ounce at 0141 GMT, hovering near Friday's peak of $1,298.42 - a level last seen in June.\n",
      "\n",
      "US gold futures rose 0.1 percent to $1,293.20 per ounce.\n",
      "\n",
      "Prediction business\n",
      "reached here\n",
      "business\n",
      "        score filename                             headline\n",
      "382  0.454327  383.txt    Fed warns of more US rate rises\\n\n",
      "120  0.450498  121.txt  US interest rates increased to 2%\\n\n",
      "328  0.424766  329.txt    House prices drop as sales slow\\n\n",
      "239  0.422634  240.txt  Economy 'strong' in election year\\n\n",
      "213  0.422634  214.txt  Economy 'strong' in election year\\n\n"
     ]
    },
    {
     "name": "stderr",
     "output_type": "stream",
     "text": [
      "127.0.0.1 - - [10/Jan/2019 15:10:38] \"POST /api HTTP/1.1\" 200 -\n"
     ]
    },
    {
     "name": "stdout",
     "output_type": "stream",
     "text": [
      "Gold prices held near seven-month highs on Thursday as the dollar was pressured by rising expectations the US Federal Reserve will keep interest rates steady this year, while investors also waited for further news on Sino-US trade talks.\n",
      "\n",
      "FUNDAMENTALS\n",
      "\n",
      "Spot gold was a tad lower at $1,292.46 per ounce at 0141 GMT, hovering near Friday's peak of $1,298.42 - a level last seen in June.\n",
      "\n",
      "US gold futures rose 0.1 percent to $1,293.20 per ounce.\n",
      "\n",
      "Prediction business\n",
      "reached here\n",
      "business\n",
      "        score filename                             headline\n",
      "382  0.454327  383.txt    Fed warns of more US rate rises\\n\n",
      "120  0.450498  121.txt  US interest rates increased to 2%\\n\n",
      "328  0.424766  329.txt    House prices drop as sales slow\\n\n",
      "239  0.422634  240.txt  Economy 'strong' in election year\\n\n",
      "213  0.422634  214.txt  Economy 'strong' in election year\\n\n"
     ]
    },
    {
     "name": "stderr",
     "output_type": "stream",
     "text": [
      "127.0.0.1 - - [10/Jan/2019 15:16:43] \"POST /api HTTP/1.1\" 200 -\n"
     ]
    },
    {
     "name": "stdout",
     "output_type": "stream",
     "text": [
      "UK pioneers digital film network\n",
      "\n",
      "The world's first digital cinema network will be established in the UK over the next 18 months.\n",
      "\n",
      "The UK Film Council has awarded a contract worth £11.5m to Arts Alliance Digital Cinema (AADC), who will set up the network of up to 250 screens. AADC will oversee the selection of cinemas across the UK which will use the digital equipment. High definition projectors and computer servers will be installed to show mainly British and specialist films. Most cinemas currently have mechanical projectors but the new network will see up to 250 screens in up to 150 cinemas fitted with digital projectors capable of displaying high definition images. The new network will double the world's total of digital screens. Cinemas will be given the film on a portable hard drive and they will then copy the content to a computer server.\n",
      "\n",
      "Each film is about 100 gigabytes and has been compressed from an original one terabyte-size file. Fiona Deans, associate director of AADC, said the compression was visually lossless so no picture degradation will occur.\n",
      "\n",
      "The film will all be encrypted to prevent piracy and each cinema will have an individual key which will unlock the movie. \"People will see the picture quality is a bit clearer with no scratches. \"The picture will look exactly the same as when the print was first made - there is no degradation in quality over time.\"\n",
      "\n",
      "The key benefit of the digital network will be an increase in the distribution and screening of British films, documentaries and foreign language films.\n",
      "\n",
      "\"Access to specialised film is currently restricted across the UK,\" said Pete Buckingham, head of Distribution and Exhibition at the UK Film Council. \"Although a genuine variety of films is available in central London and a few other metropolitan areas, the choice for many outside these areas remains limited, and the Digital Screen Network will improve access for audiences across the UK,\" Digital prints costs less than a traditional 35mm print - giving distributors more flexibility in how they screen films, said Ms Deans. \"It can cost up to £1,500 to make a copy of a print for specialist films. \"In the digital world you can make prints for considerably less than that. \"Distributors can then send out prints to more cinemas and prints can stay in cinemas for much longer.\" The UK digital network will be the first to employ 2k projectors - which are capable of showing films at resolutions of 2048 * 1080 pixels. A separate competitive process to determine which cinemas will receive the digital screening technology will conclude in May. The sheer cost of traditional prints means that some cinemas need to show them twice a day in order to recoup costs. \"Some films need word of mouth and time to build momentum - they don't need to be shown twice a day,\" explained Ms Deans. \"A cinema will often book a 35mm print in for two weeks - even if the film is a roaring success they cannot hold on to the print because it will have to go to another cinema. \"With digital prints, every cinema will have its own copy.\"\n",
      "\n",
      "Prediction tech\n",
      "reached here\n"
     ]
    },
    {
     "name": "stderr",
     "output_type": "stream",
     "text": [
      "[2019-01-10 15:29:41,665] ERROR in app: Exception on /api [POST]\n",
      "Traceback (most recent call last):\n",
      "  File \"C:\\Users\\vivyadav\\AppData\\Local\\Continuum\\anaconda3\\lib\\site-packages\\flask\\app.py\", line 2292, in wsgi_app\n",
      "    response = self.full_dispatch_request()\n",
      "  File \"C:\\Users\\vivyadav\\AppData\\Local\\Continuum\\anaconda3\\lib\\site-packages\\flask\\app.py\", line 1815, in full_dispatch_request\n",
      "    rv = self.handle_user_exception(e)\n",
      "  File \"C:\\Users\\vivyadav\\AppData\\Local\\Continuum\\anaconda3\\lib\\site-packages\\flask\\app.py\", line 1718, in handle_user_exception\n",
      "    reraise(exc_type, exc_value, tb)\n",
      "  File \"C:\\Users\\vivyadav\\AppData\\Local\\Continuum\\anaconda3\\lib\\site-packages\\flask\\_compat.py\", line 35, in reraise\n",
      "    raise value\n",
      "  File \"C:\\Users\\vivyadav\\AppData\\Local\\Continuum\\anaconda3\\lib\\site-packages\\flask\\app.py\", line 1813, in full_dispatch_request\n",
      "    rv = self.dispatch_request()\n",
      "  File \"C:\\Users\\vivyadav\\AppData\\Local\\Continuum\\anaconda3\\lib\\site-packages\\flask\\app.py\", line 1799, in dispatch_request\n",
      "    return self.view_functions[rule.endpoint](**req.view_args)\n",
      "  File \"<ipython-input-11-5962189ee179>\", line 20, in news_predict\n",
      "    top_similar_articles=compute_similar_docs(received_text,dataset.loc[dataset.category==predicted_category],predicted_category,num_of_recommendation_articles)\n",
      "  File \"<ipython-input-6-e7b65d3696d8>\", line 9, in compute_similar_docs\n",
      "    similarity_series.append(softcossim(query_vec,doc_vec,category_similarity_matrix[category]))\n",
      "  File \"C:\\Users\\vivyadav\\AppData\\Local\\Continuum\\anaconda3\\lib\\site-packages\\gensim\\matutils.py\", line 855, in softcossim\n",
      "    dense_matrix = similarity_matrix[[[i] for i in word_indices], word_indices].todense()\n",
      "  File \"C:\\Users\\vivyadav\\AppData\\Local\\Continuum\\anaconda3\\lib\\site-packages\\scipy\\sparse\\csc.py\", line 170, in __getitem__\n",
      "    return self.T[col, row]\n",
      "  File \"C:\\Users\\vivyadav\\AppData\\Local\\Continuum\\anaconda3\\lib\\site-packages\\scipy\\sparse\\csr.py\", line 344, in __getitem__\n",
      "    check_bounds(row, self.shape[0])\n",
      "  File \"C:\\Users\\vivyadav\\AppData\\Local\\Continuum\\anaconda3\\lib\\site-packages\\scipy\\sparse\\csr.py\", line 256, in check_bounds\n",
      "    raise IndexError('index (%d) out of range' % max_indx)\n",
      "IndexError: index (10450) out of range\n",
      "127.0.0.1 - - [10/Jan/2019 15:29:41] \"POST /api HTTP/1.1\" 500 -\n"
     ]
    },
    {
     "name": "stdout",
     "output_type": "stream",
     "text": [
      "A petition has been filed in the Supreme Court challenging the constitution amendment bill that reserves 10 per cent quota for poorer sections in the general category. A petition filed by a group, Youth for Equality and Dr Kaushal Kant Mishra, said the amendment violates the 50 per cent ceiling that had been laid down by the Supreme Court.\n",
      "\n",
      "The petition says each of the four provisions that are being introduced in the Constitution violate one or the other basic feature and should not be allowed. A 13-judge Constitution Bench of the top court in 1973 had propounded the “basic structure” doctrine, holding that Parliament can amend the Constitution but not alter its basic or essential features.\n",
      "\n",
      "Prediction business\n",
      "reached here\n",
      "business\n",
      "        score filename                             headline\n",
      "103  0.324010  104.txt  US seeks new $280bn smoker ruling\\n\n",
      "290  0.321110  291.txt   Tobacco giants hail court ruling\\n\n",
      "24   0.301051  025.txt   Yukos loses US bankruptcy battle\\n\n",
      "191  0.283464  192.txt   Yukos bankruptcy 'not US matter'\\n\n",
      "304  0.283279  305.txt  Brazil approves bankruptcy reform\\n\n"
     ]
    },
    {
     "name": "stderr",
     "output_type": "stream",
     "text": [
      "127.0.0.1 - - [10/Jan/2019 15:59:31] \"POST /api HTTP/1.1\" 200 -\n"
     ]
    },
    {
     "name": "stdout",
     "output_type": "stream",
     "text": [
      " It’s a negative end on the market on Thursday, with the Nifty holding on to 10,800-mark.\n",
      "\n",
      "There was some weakness in the financials space, which weighed on the indices. Automobiles and pharmaceuticals, among others, were the other big gainers. There was a considerable outperformance by the Nifty Midcap segment, gaining almost half a percent. \n",
      "\n",
      "At the close of market hours, the Sensex was down 106.41 points or 0.29% at 36106.50, and the Nifty down 33.60 points or 0.31% at 10821.60. The market breadth was negative as 1217 shares advanced, against a decline of 1362 shares, while 153 shares were unchanged.\n",
      "\n",
      "Prediction business\n",
      "reached here\n",
      "business\n",
      "        score filename                            headline\n",
      "273  0.439595  274.txt  Google shares fall as staff sell\\n\n",
      "260  0.399545  261.txt    Booming markets shed few tears\\n\n",
      "427  0.393054  428.txt  Karachi stocks hit historic high\\n\n",
      "261  0.388312  262.txt  Asian quake hits European shares\\n\n",
      "243  0.377467  244.txt  Market unfazed by Aurora setback\\n\n"
     ]
    },
    {
     "name": "stderr",
     "output_type": "stream",
     "text": [
      "127.0.0.1 - - [10/Jan/2019 16:01:00] \"POST /api HTTP/1.1\" 200 -\n"
     ]
    },
    {
     "name": "stdout",
     "output_type": "stream",
     "text": [
      " It’s a negative end on the market on Thursday, with the Nifty holding on to 10,800-mark.\n",
      "\n",
      "There was some weakness in the financials space, which weighed on the indices. Automobiles and pharmaceuticals, among others, were the other big gainers. There was a considerable outperformance by the Nifty Midcap segment, gaining almost half a percent. \n",
      "\n",
      "At the close of market hours, the Sensex was down 106.41 points or 0.29% at 36106.50, and the Nifty down 33.60 points or 0.31% at 10821.60. The market breadth was negative as 1217 shares advanced, against a decline of 1362 shares, while 153 shares were unchanged.\n",
      "\n",
      "Tata Motors, NTPC, and Titan were the top gainers, while IndusInd Bank, Kotak Mahindra Bank, and HPCL lost the most. \n",
      "\n",
      "Prediction business\n",
      "reached here\n",
      "business\n",
      "        score filename                            headline\n",
      "273  0.417344  274.txt  Google shares fall as staff sell\\n\n",
      "260  0.402732  261.txt    Booming markets shed few tears\\n\n",
      "261  0.392050  262.txt  Asian quake hits European shares\\n\n",
      "427  0.383571  428.txt  Karachi stocks hit historic high\\n\n",
      "243  0.376882  244.txt  Market unfazed by Aurora setback\\n\n"
     ]
    },
    {
     "name": "stderr",
     "output_type": "stream",
     "text": [
      "127.0.0.1 - - [10/Jan/2019 16:07:21] \"POST /api HTTP/1.1\" 200 -\n"
     ]
    },
    {
     "name": "stdout",
     "output_type": "stream",
     "text": [
      "UK pioneers digital film network\n",
      "\n",
      "The world's first digital cinema network will be established in the UK over the next 18 months.\n",
      "\n",
      "The UK Film Council has awarded a contract worth £11.5m to Arts Alliance Digital Cinema (AADC), who will set up the network of up to 250 screens. AADC will oversee the selection of cinemas across the UK which will use the digital equipment. High definition projectors and computer servers will be installed to show mainly British and specialist films. Most cinemas currently have mechanical projectors but the new network will see up to 250 screens in up to 150 cinemas fitted with digital projectors capable of displaying high definition images. The new network will double the world's total of digital screens. Cinemas will be given the film on a portable hard drive and they will then copy the content to a computer server.\n",
      "\n",
      "Each film is about 100 gigabytes and has been compressed from an original one terabyte-size file. Fiona Deans, associate director of AADC, said the compression was visually lossless so no picture degradation will occur.\n",
      "\n",
      "The film will all be encrypted to prevent piracy and each cinema will have an individual key which will unlock the movie. \"People will see the picture quality is a bit clearer with no scratches. \"The picture will look exactly the same as when the print was first made - there is no degradation in quality over time.\"\n",
      "\n",
      "The key benefit of the digital network will be an increase in the distribution and screening of British films, documentaries and foreign language films.\n",
      "\n",
      "\"Access to specialised film is currently restricted across the UK,\" said Pete Buckingham, head of Distribution and Exhibition at the UK Film Council. \"Although a genuine variety of films is available in central London and a few other metropolitan areas, the choice for many outside these areas remains limited, and the Digital Screen Network will improve access for audiences across the UK,\" Digital prints costs less than a traditional 35mm print - giving distributors more flexibility in how they screen films, said Ms Deans. \"It can cost up to £1,500 to make a copy of a print for specialist films. \"In the digital world you can make prints for considerably less than that. \"Distributors can then send out prints to more cinemas and prints can stay in cinemas for much longer.\" The UK digital network will be the first to employ 2k projectors - which are capable of showing films at resolutions of 2048 * 1080 pixels. A separate competitive process to determine which cinemas will receive the digital screening technology will conclude in May. The sheer cost of traditional prints means that some cinemas need to show them twice a day in order to recoup costs. \"Some films need word of mouth and time to build momentum - they don't need to be shown twice a day,\" explained Ms Deans. \"A cinema will often book a 35mm print in for two weeks - even if the film is a roaring success they cannot hold on to the print because it will have to go to another cinema. \"With digital prints, every cinema will have its own copy.\"\n",
      "\n",
      "Prediction tech\n",
      "reached here\n"
     ]
    },
    {
     "name": "stderr",
     "output_type": "stream",
     "text": [
      "[2019-01-10 16:11:48,823] ERROR in app: Exception on /api [POST]\n",
      "Traceback (most recent call last):\n",
      "  File \"C:\\Users\\vivyadav\\AppData\\Local\\Continuum\\anaconda3\\lib\\site-packages\\flask\\app.py\", line 2292, in wsgi_app\n",
      "    response = self.full_dispatch_request()\n",
      "  File \"C:\\Users\\vivyadav\\AppData\\Local\\Continuum\\anaconda3\\lib\\site-packages\\flask\\app.py\", line 1815, in full_dispatch_request\n",
      "    rv = self.handle_user_exception(e)\n",
      "  File \"C:\\Users\\vivyadav\\AppData\\Local\\Continuum\\anaconda3\\lib\\site-packages\\flask\\app.py\", line 1718, in handle_user_exception\n",
      "    reraise(exc_type, exc_value, tb)\n",
      "  File \"C:\\Users\\vivyadav\\AppData\\Local\\Continuum\\anaconda3\\lib\\site-packages\\flask\\_compat.py\", line 35, in reraise\n",
      "    raise value\n",
      "  File \"C:\\Users\\vivyadav\\AppData\\Local\\Continuum\\anaconda3\\lib\\site-packages\\flask\\app.py\", line 1813, in full_dispatch_request\n",
      "    rv = self.dispatch_request()\n",
      "  File \"C:\\Users\\vivyadav\\AppData\\Local\\Continuum\\anaconda3\\lib\\site-packages\\flask\\app.py\", line 1799, in dispatch_request\n",
      "    return self.view_functions[rule.endpoint](**req.view_args)\n",
      "  File \"<ipython-input-11-5962189ee179>\", line 20, in news_predict\n",
      "    top_similar_articles=compute_similar_docs(received_text,dataset.loc[dataset.category==predicted_category],predicted_category,num_of_recommendation_articles)\n",
      "  File \"<ipython-input-6-e7b65d3696d8>\", line 9, in compute_similar_docs\n",
      "    similarity_series.append(softcossim(query_vec,doc_vec,category_similarity_matrix[category]))\n",
      "  File \"C:\\Users\\vivyadav\\AppData\\Local\\Continuum\\anaconda3\\lib\\site-packages\\gensim\\matutils.py\", line 855, in softcossim\n",
      "    dense_matrix = similarity_matrix[[[i] for i in word_indices], word_indices].todense()\n",
      "  File \"C:\\Users\\vivyadav\\AppData\\Local\\Continuum\\anaconda3\\lib\\site-packages\\scipy\\sparse\\csc.py\", line 170, in __getitem__\n",
      "    return self.T[col, row]\n",
      "  File \"C:\\Users\\vivyadav\\AppData\\Local\\Continuum\\anaconda3\\lib\\site-packages\\scipy\\sparse\\csr.py\", line 344, in __getitem__\n",
      "    check_bounds(row, self.shape[0])\n",
      "  File \"C:\\Users\\vivyadav\\AppData\\Local\\Continuum\\anaconda3\\lib\\site-packages\\scipy\\sparse\\csr.py\", line 256, in check_bounds\n",
      "    raise IndexError('index (%d) out of range' % max_indx)\n",
      "IndexError: index (10450) out of range\n",
      "127.0.0.1 - - [10/Jan/2019 16:11:48] \"POST /api HTTP/1.1\" 500 -\n"
     ]
    },
    {
     "name": "stdout",
     "output_type": "stream",
     "text": [
      "Dhoni scored a century\n",
      "\n",
      "Prediction sport\n",
      "reached here\n",
      "sport\n",
      "        score filename                             headline\n",
      "218  0.191792  219.txt       Hearts of Oak 3-2 Cotonsport\\n\n",
      "150  0.093129  151.txt   Owen delighted with Real display\\n\n",
      "148  0.091394  149.txt  Legendary Dutch boss Michels dies\\n\n",
      "195  0.089446  196.txt              Wenger signs new deal\\n\n",
      "289  0.088689  290.txt   O'Gara revels in Ireland victory\\n\n"
     ]
    },
    {
     "name": "stderr",
     "output_type": "stream",
     "text": [
      "127.0.0.1 - - [10/Jan/2019 16:34:26] \"POST /api HTTP/1.1\" 200 -\n"
     ]
    }
   ],
   "source": [
    "if __name__ == '__main__':\n",
    "    app.run(port=8010, debug=False)"
   ]
  },
  {
   "cell_type": "code",
   "execution_count": null,
   "metadata": {},
   "outputs": [],
   "source": []
  },
  {
   "cell_type": "code",
   "execution_count": null,
   "metadata": {},
   "outputs": [],
   "source": []
  }
 ],
 "metadata": {
  "kernelspec": {
   "display_name": "Python 3",
   "language": "python",
   "name": "python3"
  }
 },
 "nbformat": 4,
 "nbformat_minor": 2
}
