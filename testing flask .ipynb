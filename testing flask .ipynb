{
 "cells": [
  {
   "cell_type": "code",
   "execution_count": 84,
   "metadata": {},
   "outputs": [
    {
     "name": "stdout",
     "output_type": "stream",
     "text": [
      "['sport', 5, ['Britain boosted by Holmes double\\n', 'A November to remember\\n', 'Holmes back on form in Birmingham\\n', 'Republic to face China and Italy\\n', 'A year to remember for Irish\\n'], [0.32720400941750905, 0.31834096299476794, 0.31012826301337404, 0.30511092788285055, 0.3047502519801516], ['066.txt', '368.txt', '069.txt', '132.txt', '364.txt']]\n"
     ]
    }
   ],
   "source": [
    "import requests\n",
    "url='http://localhost:8010/api'\n",
    "#url = 'http://10.51.61.216:8010/api'\n",
    "r = requests.post(url,json={'content':'''Hockey India on Wednesday officially parted ways with Harendra Singh as the men’s chief coach and recommended him for the junior side instead.\n",
    "\n",
    "“Harendra Singh’s abilities of grooming youngsters has been the key reasons for the think-tank at Hockey India to arrive at this recommendation” was the official communiqué, citing his 2016 Junior World Cup triumph. HI would also be inviting fresh applications for a foreign coach. But the decision has raised more questions with no answers and no one willing to explain.\n",
    "\n",
    "Multiple sources in Hockey India have confirmed that India’s failure to defend its Asian Games title and thereby qualify for the 2020 Olympics played a big role in the decision. The High Performance & Development Committee that decided this, met here on Monday and also made it the key issue. The next junior World Cup would be played in 2021.'''})\n",
    "print(r.json())"
   ]
  },
  {
   "cell_type": "code",
   "execution_count": 75,
   "metadata": {},
   "outputs": [],
   "source": [
    "prediction=r.json()[0]"
   ]
  },
  {
   "cell_type": "code",
   "execution_count": 76,
   "metadata": {},
   "outputs": [],
   "source": [
    "num_of_recommended_articles=r.json()[1]"
   ]
  },
  {
   "cell_type": "code",
   "execution_count": 80,
   "metadata": {},
   "outputs": [
    {
     "name": "stdout",
     "output_type": "stream",
     "text": [
      "Buyers snap up Jet Airways' shares\n",
      " 0.38017076028367847\n",
      "Huge rush for Jet Airways shares\n",
      " 0.36400916798943184\n",
      "Aviation firms eye booming India\n",
      " 0.34944061516148545\n",
      "India widens access to telecoms\n",
      " 0.3369340720508729\n",
      "Millions go missing at China bank\n",
      " 0.32941493332264565\n"
     ]
    }
   ],
   "source": [
    "for j in range(num_of_recommended_articles):\n",
    "    print(r.json()[2][j],r.json()[3][j])"
   ]
  },
  {
   "cell_type": "code",
   "execution_count": 65,
   "metadata": {},
   "outputs": [
    {
     "name": "stdout",
     "output_type": "stream",
     "text": [
      "['sport', 5, ['Collins appeals against drugs ban\\n', 'Collins banned in landmark case\\n', 'Trial date is set for Balco case\\n', 'IAAF will contest Greek decision\\n', 'Balco case trial date pushed back\\n'], [0.9913683961381964, 0.6581550998352937, 0.4481208879906302, 0.41049281126385717, 0.37311502386745904], ['026.txt', '035.txt', '045.txt', '081.txt', '091.txt']]\n"
     ]
    }
   ],
   "source": [
    "print(r.json())"
   ]
  },
  {
   "cell_type": "code",
   "execution_count": null,
   "metadata": {},
   "outputs": [],
   "source": []
  }
 ],
 "metadata": {
  "kernelspec": {
   "display_name": "Python 3",
   "language": "python",
   "name": "python3"
  },
  "language_info": {
   "codemirror_mode": {
    "name": "ipython",
    "version": 3
   },
   "file_extension": ".py",
   "mimetype": "text/x-python",
   "name": "python",
   "nbconvert_exporter": "python",
   "pygments_lexer": "ipython3",
   "version": "3.7.0"
  }
 },
 "nbformat": 4,
 "nbformat_minor": 2
}
